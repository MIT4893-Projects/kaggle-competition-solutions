{
 "cells": [
  {
   "cell_type": "code",
   "execution_count": null,
   "metadata": {},
   "outputs": [],
   "source": [
    "import pandas as pd\n",
    "\n",
    "df = pd.read_csv(\"train.csv\")\n",
    "test_df = pd.read_csv(\"test.csv\")\n",
    "display(df.head())\n",
    "display(test_df.head())\n",
    "display(df.info())\n",
    "display(test_df.info())"
   ]
  },
  {
   "cell_type": "code",
   "execution_count": null,
   "metadata": {},
   "outputs": [],
   "source": [
    "df['Survived'].value_counts().plot.pie(autopct = '%1.2f%%')"
   ]
  },
  {
   "cell_type": "code",
   "execution_count": null,
   "metadata": {},
   "outputs": [],
   "source": [
    "df[['Sex','Survived']].groupby(['Sex']).mean().plot.bar()"
   ]
  },
  {
   "cell_type": "code",
   "execution_count": null,
   "metadata": {},
   "outputs": [],
   "source": [
    "df[[\"Pclass\", \"Survived\"]].groupby(\"Pclass\").mean().plot.bar()"
   ]
  },
  {
   "cell_type": "code",
   "execution_count": null,
   "metadata": {},
   "outputs": [],
   "source": [
    "df[[\"SibSp\", \"Survived\"]].groupby(\"SibSp\").mean().plot.bar()"
   ]
  },
  {
   "cell_type": "code",
   "execution_count": null,
   "metadata": {},
   "outputs": [],
   "source": [
    "df[[\"Parch\", \"Survived\"]].groupby(\"Parch\").mean().plot.bar()"
   ]
  },
  {
   "cell_type": "code",
   "execution_count": null,
   "metadata": {},
   "outputs": [],
   "source": [
    "import seaborn as sns\n",
    "\n",
    "age_data = df[df['Age'].notna()][['Age', 'Survived']]\n",
    "display(sns.histplot(age_data['Age']))\n",
    "\n",
    "ageFacet=sns.FacetGrid(df,hue='Survived',aspect=3);\n",
    "ageFacet.map(sns.kdeplot,'Age',fill=True);\n",
    "ageFacet.set(xlim=(0,df['Age'].max()));\n",
    "ageFacet.add_legend();"
   ]
  },
  {
   "cell_type": "code",
   "execution_count": null,
   "metadata": {},
   "outputs": [],
   "source": [
    "fareFacet=sns.FacetGrid(df,hue='Survived',aspect=3)\n",
    "fareFacet.map(sns.kdeplot,'Fare',fill=True)\n",
    "fareFacet.set(xlim=(0,150))\n",
    "fareFacet.add_legend()"
   ]
  },
  {
   "cell_type": "code",
   "execution_count": null,
   "metadata": {},
   "outputs": [],
   "source": [
    "df[\"Embarked\"].mode()[0]"
   ]
  },
  {
   "cell_type": "code",
   "execution_count": null,
   "metadata": {},
   "outputs": [],
   "source": [
    "gender_map = {\"male\": 0, \"female\": 1}\n",
    "df[\"Sex\"] = df[\"Sex\"].map(gender_map)\n",
    "test_df[\"Sex\"] = test_df[\"Sex\"].map(gender_map)\n",
    "\n",
    "df[\"Age\"] = df[\"Age\"].fillna(df[\"Age\"].mean())\n",
    "test_df[\"Age\"] = test_df[\"Age\"].fillna(df[\"Age\"].mean())\n",
    "\n",
    "embarked_map = {\"S\": 0, \"C\": 1, \"Q\": 2}\n",
    "df[\"Embarked\"] = df[\"Embarked\"].map(embarked_map)\n",
    "test_df[\"Embarked\"] = test_df[\"Embarked\"].map(embarked_map)\n",
    "\n",
    "display(df.isna().sum())\n",
    "display(test_df.isna().sum())\n",
    "display(df.describe())\n",
    "display(test_df.describe())\n",
    "display(df.info())\n",
    "display(test_df.info())"
   ]
  },
  {
   "cell_type": "code",
   "execution_count": null,
   "metadata": {},
   "outputs": [],
   "source": [
    "max_Pclass = max(df[\"Pclass\"].max(), test_df[\"Pclass\"].max())\n",
    "df[\"Pclass\"] = df[\"Pclass\"] / max_Pclass\n",
    "test_df[\"Pclass\"] = test_df[\"Pclass\"] / max_Pclass\n",
    "\n",
    "max_Age = max(df[\"Age\"].max(), test_df[\"Age\"].max())\n",
    "df[\"Age\"] = df[\"Age\"] / max_Age\n",
    "test_df[\"Age\"] = test_df[\"Age\"] / max_Age\n",
    "\n",
    "max_SibSp = max(df[\"SibSp\"].max(), test_df[\"SibSp\"].max())\n",
    "df[\"SibSp\"] = df[\"SibSp\"] / max_SibSp\n",
    "test_df[\"SibSp\"] = test_df[\"SibSp\"] / max_SibSp\n",
    "\n",
    "max_Parch = max(df[\"Parch\"].max(), test_df[\"Parch\"].max())\n",
    "df[\"Parch\"] = df[\"Parch\"] / max_Parch\n",
    "test_df[\"Parch\"] = test_df[\"Parch\"] / max_Parch\n",
    "\n",
    "mean_Fare = df[\"Fare\"].mean()\n",
    "test_df[\"Fare\"] = test_df[\"Fare\"].fillna(mean_Fare)\n",
    "\n",
    "max_Fare = max(df[\"Fare\"].max(), test_df[\"Fare\"].max())\n",
    "df[\"Fare\"] = df[\"Fare\"] / max_Fare\n",
    "test_df[\"Fare\"] = test_df[\"Fare\"] / max_Fare\n",
    "\n",
    "mod_Embarked = df[\"Embarked\"].mode()[0]\n",
    "df[\"Embarked\"] = df[\"Embarked\"].fillna(mod_Embarked)\n",
    "test_df[\"Embarked\"] = test_df[\"Embarked\"].fillna(mod_Embarked)\n",
    "\n",
    "max_Embarked = max(df[\"Embarked\"].max(), test_df[\"Embarked\"].max())\n",
    "df[\"Embarked\"] = df[\"Embarked\"] / max_Embarked\n",
    "test_df[\"Embarked\"] = test_df[\"Embarked\"] / max_Embarked"
   ]
  },
  {
   "cell_type": "code",
   "execution_count": null,
   "metadata": {},
   "outputs": [],
   "source": [
    "features = [\"Pclass\", \"Sex\", \"Age\",\t\"SibSp\", \"Parch\", \"Fare\", \"Embarked\"]\n",
    "\n",
    "train_features = [\"Survived\"] + features\n",
    "test_features = [\"PassengerId\"] + features\n",
    "\n",
    "df = df[train_features]\n",
    "test_df = test_df[test_features]\n",
    "\n",
    "display(df.info())\n",
    "display(test_df.info())\n",
    "display(df.describe())\n",
    "display(test_df.describe())"
   ]
  },
  {
   "cell_type": "code",
   "execution_count": null,
   "metadata": {},
   "outputs": [],
   "source": [
    "import tensorflow as tf\n",
    "\n",
    "tensor_data = tf.convert_to_tensor(df)\n",
    "X = tensor_data[:,1:]\n",
    "y = tensor_data[:,0]\n",
    "\n",
    "X.shape"
   ]
  },
  {
   "cell_type": "code",
   "execution_count": null,
   "metadata": {},
   "outputs": [],
   "source": [
    "from keras import Sequential\n",
    "from keras.layers import InputLayer, Dense, Dropout\n",
    "\n",
    "model = Sequential([\n",
    "    InputLayer((X.shape[1],)),\n",
    "    Dense(20, activation=\"relu\"),\n",
    "    Dense(20, activation=\"relu\"),\n",
    "    Dense(5, activation=\"relu\"),\n",
    "    Dense(1, activation=\"sigmoid\")\n",
    "])\n",
    "\n",
    "model.summary()"
   ]
  },
  {
   "cell_type": "code",
   "execution_count": null,
   "metadata": {},
   "outputs": [],
   "source": [
    "from keras.callbacks import EarlyStopping\n",
    "\n",
    "callback = EarlyStopping(monitor=\"loss\", patience=3)\n",
    "\n",
    "model.compile(optimizer = 'adam', loss = 'binary_crossentropy', metrics = ['accuracy'])\n",
    "history = model.fit(X, y, epochs=100, batch_size=16, validation_data=(X, y), callbacks=[callback])"
   ]
  },
  {
   "cell_type": "code",
   "execution_count": null,
   "metadata": {},
   "outputs": [],
   "source": [
    "from matplotlib import pyplot as plt \n",
    "plt.plot(history.history[\"accuracy\"])\n",
    "plt.plot(history.history[\"val_accuracy\"])\n",
    "plt.ylabel(\"acc\")\n",
    "plt.xlabel(\"epoch\")\n",
    "plt.legend([\"train\", \"test\"])\n",
    "plt.show()"
   ]
  },
  {
   "cell_type": "code",
   "execution_count": null,
   "metadata": {},
   "outputs": [],
   "source": [
    "from matplotlib import pyplot as plt \n",
    "plt.plot(history.history[\"loss\"])\n",
    "plt.plot(history.history[\"val_loss\"])\n",
    "plt.ylabel(\"loss\")\n",
    "plt.xlabel(\"epoch\")\n",
    "plt.legend([\"train\", \"test\"])\n",
    "plt.show()"
   ]
  },
  {
   "cell_type": "code",
   "execution_count": null,
   "metadata": {},
   "outputs": [],
   "source": [
    "test_tensor = tf.convert_to_tensor(test_df)\n",
    "X_test = test_tensor[:, 1:]"
   ]
  },
  {
   "cell_type": "code",
   "execution_count": null,
   "metadata": {},
   "outputs": [],
   "source": [
    "y_test = model.predict(X_test)\n",
    "y_test = [1 if x > 0.5 else 0 for x in y_test]\n",
    "y_test"
   ]
  },
  {
   "cell_type": "code",
   "execution_count": null,
   "metadata": {},
   "outputs": [],
   "source": [
    "submission = pd.DataFrame({\n",
    "    'PassengerId': test_df['PassengerId'],\n",
    "    'Survived':  y_test\n",
    "})\n",
    "\n",
    "submission.describe()"
   ]
  },
  {
   "cell_type": "code",
   "execution_count": null,
   "metadata": {},
   "outputs": [],
   "source": [
    "submission.to_csv(\"result.csv\", index=False)"
   ]
  }
 ],
 "metadata": {
  "kernelspec": {
   "display_name": "Python 3",
   "language": "python",
   "name": "python3"
  },
  "language_info": {
   "codemirror_mode": {
    "name": "ipython",
    "version": 3
   },
   "file_extension": ".py",
   "mimetype": "text/x-python",
   "name": "python",
   "nbconvert_exporter": "python",
   "pygments_lexer": "ipython3",
   "version": "3.12.3"
  }
 },
 "nbformat": 4,
 "nbformat_minor": 2
}
